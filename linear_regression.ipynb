{
 "cells": [
  {
   "cell_type": "code",
   "execution_count": 70,
   "id": "initial_id",
   "metadata": {
    "collapsed": true,
    "ExecuteTime": {
     "end_time": "2023-11-21T21:40:57.638470Z",
     "start_time": "2023-11-21T21:40:57.371144Z"
    }
   },
   "outputs": [
    {
     "data": {
      "text/plain": "   GallonsPer100Miles  GallonsPer100MilesTo1981   MPG  Cylinders  \\\n0            5.555556                  5.555556  18.0          8   \n1            6.666667                  6.666667  15.0          8   \n2            5.555556                  5.555556  18.0          8   \n3            6.250000                  6.250000  16.0          8   \n4            5.882353                  5.882353  17.0          8   \n\n   Displacement100ci  Horsepower100  Weight1000lb  Seconds0to60  Year  \\\n0               3.07           1.30         3.504          12.0    70   \n1               3.50           1.65         3.693          11.5    70   \n2               3.18           1.50         3.436          11.0    70   \n3               3.04           1.50         3.433          12.0    70   \n4               3.02           1.40         3.449          10.5    70   \n\n   Year70To81  Origin  Origin.Eq.1  Origin.Eq.2  Origin.Eq.3  \\\n0           1       1            1            0            0   \n1           1       1            1            0            0   \n2           1       1            1            0            0   \n3           1       1            1            0            0   \n4           1       1            1            0            0   \n\n                        Name  \n0  chevrolet chevelle malibu  \n1          buick skylark 320  \n2         plymouth satellite  \n3              amc rebel sst  \n4                ford torino  ",
      "text/html": "<div>\n<style scoped>\n    .dataframe tbody tr th:only-of-type {\n        vertical-align: middle;\n    }\n\n    .dataframe tbody tr th {\n        vertical-align: top;\n    }\n\n    .dataframe thead th {\n        text-align: right;\n    }\n</style>\n<table border=\"1\" class=\"dataframe\">\n  <thead>\n    <tr style=\"text-align: right;\">\n      <th></th>\n      <th>GallonsPer100Miles</th>\n      <th>GallonsPer100MilesTo1981</th>\n      <th>MPG</th>\n      <th>Cylinders</th>\n      <th>Displacement100ci</th>\n      <th>Horsepower100</th>\n      <th>Weight1000lb</th>\n      <th>Seconds0to60</th>\n      <th>Year</th>\n      <th>Year70To81</th>\n      <th>Origin</th>\n      <th>Origin.Eq.1</th>\n      <th>Origin.Eq.2</th>\n      <th>Origin.Eq.3</th>\n      <th>Name</th>\n    </tr>\n  </thead>\n  <tbody>\n    <tr>\n      <th>0</th>\n      <td>5.555556</td>\n      <td>5.555556</td>\n      <td>18.0</td>\n      <td>8</td>\n      <td>3.07</td>\n      <td>1.30</td>\n      <td>3.504</td>\n      <td>12.0</td>\n      <td>70</td>\n      <td>1</td>\n      <td>1</td>\n      <td>1</td>\n      <td>0</td>\n      <td>0</td>\n      <td>chevrolet chevelle malibu</td>\n    </tr>\n    <tr>\n      <th>1</th>\n      <td>6.666667</td>\n      <td>6.666667</td>\n      <td>15.0</td>\n      <td>8</td>\n      <td>3.50</td>\n      <td>1.65</td>\n      <td>3.693</td>\n      <td>11.5</td>\n      <td>70</td>\n      <td>1</td>\n      <td>1</td>\n      <td>1</td>\n      <td>0</td>\n      <td>0</td>\n      <td>buick skylark 320</td>\n    </tr>\n    <tr>\n      <th>2</th>\n      <td>5.555556</td>\n      <td>5.555556</td>\n      <td>18.0</td>\n      <td>8</td>\n      <td>3.18</td>\n      <td>1.50</td>\n      <td>3.436</td>\n      <td>11.0</td>\n      <td>70</td>\n      <td>1</td>\n      <td>1</td>\n      <td>1</td>\n      <td>0</td>\n      <td>0</td>\n      <td>plymouth satellite</td>\n    </tr>\n    <tr>\n      <th>3</th>\n      <td>6.250000</td>\n      <td>6.250000</td>\n      <td>16.0</td>\n      <td>8</td>\n      <td>3.04</td>\n      <td>1.50</td>\n      <td>3.433</td>\n      <td>12.0</td>\n      <td>70</td>\n      <td>1</td>\n      <td>1</td>\n      <td>1</td>\n      <td>0</td>\n      <td>0</td>\n      <td>amc rebel sst</td>\n    </tr>\n    <tr>\n      <th>4</th>\n      <td>5.882353</td>\n      <td>5.882353</td>\n      <td>17.0</td>\n      <td>8</td>\n      <td>3.02</td>\n      <td>1.40</td>\n      <td>3.449</td>\n      <td>10.5</td>\n      <td>70</td>\n      <td>1</td>\n      <td>1</td>\n      <td>1</td>\n      <td>0</td>\n      <td>0</td>\n      <td>ford torino</td>\n    </tr>\n  </tbody>\n</table>\n</div>"
     },
     "execution_count": 70,
     "metadata": {},
     "output_type": "execute_result"
    }
   ],
   "source": [
    "import pandas as pd\n",
    "import numpy as np\n",
    "import matplotlib.pyplot as plt\n",
    "auto_MPG = pd.read_excel(\"AutoMPG_data.xlsx\")\n",
    "auto_MPG.head(5)"
   ]
  },
  {
   "cell_type": "code",
   "execution_count": 71,
   "outputs": [
    {
     "name": "stdout",
     "output_type": "stream",
     "text": [
      "0      0.0\n",
      "1      0.0\n",
      "2      0.0\n",
      "3      0.0\n",
      "4      0.0\n",
      "      ... \n",
      "387    NaN\n",
      "388    NaN\n",
      "389    NaN\n",
      "390    NaN\n",
      "391    NaN\n",
      "Length: 392, dtype: float64\n"
     ]
    }
   ],
   "source": [
    "\n",
    "print(auto_MPG['GallonsPer100Miles'] - auto_MPG['GallonsPer100MilesTo1981'])"
   ],
   "metadata": {
    "collapsed": false,
    "ExecuteTime": {
     "end_time": "2023-11-21T21:40:59.263192Z",
     "start_time": "2023-11-21T21:40:59.167921Z"
    }
   },
   "id": "ec3c14b9c77c62cd"
  },
  {
   "cell_type": "code",
   "execution_count": 72,
   "outputs": [
    {
     "data": {
      "text/plain": "     GallonsPer100Miles   MPG  Cylinders  Displacement100ci  Horsepower100  \\\n0              5.555556  18.0          8               3.07           1.30   \n1              6.666667  15.0          8               3.50           1.65   \n2              5.555556  18.0          8               3.18           1.50   \n3              6.250000  16.0          8               3.04           1.50   \n4              5.882353  17.0          8               3.02           1.40   \n..                  ...   ...        ...                ...            ...   \n387            3.703704  27.0          4               1.40           0.86   \n388            2.272727  44.0          4               0.97           0.52   \n389            3.125000  32.0          4               1.35           0.84   \n390            3.571429  28.0          4               1.20           0.79   \n391            3.225806  31.0          4               1.19           0.82   \n\n     Weight1000lb  Seconds0to60  Year  \n0           3.504          12.0    70  \n1           3.693          11.5    70  \n2           3.436          11.0    70  \n3           3.433          12.0    70  \n4           3.449          10.5    70  \n..            ...           ...   ...  \n387         2.790          15.6    82  \n388         2.130          24.6    82  \n389         2.295          11.6    82  \n390         2.625          18.6    82  \n391         2.720          19.4    82  \n\n[392 rows x 8 columns]",
      "text/html": "<div>\n<style scoped>\n    .dataframe tbody tr th:only-of-type {\n        vertical-align: middle;\n    }\n\n    .dataframe tbody tr th {\n        vertical-align: top;\n    }\n\n    .dataframe thead th {\n        text-align: right;\n    }\n</style>\n<table border=\"1\" class=\"dataframe\">\n  <thead>\n    <tr style=\"text-align: right;\">\n      <th></th>\n      <th>GallonsPer100Miles</th>\n      <th>MPG</th>\n      <th>Cylinders</th>\n      <th>Displacement100ci</th>\n      <th>Horsepower100</th>\n      <th>Weight1000lb</th>\n      <th>Seconds0to60</th>\n      <th>Year</th>\n    </tr>\n  </thead>\n  <tbody>\n    <tr>\n      <th>0</th>\n      <td>5.555556</td>\n      <td>18.0</td>\n      <td>8</td>\n      <td>3.07</td>\n      <td>1.30</td>\n      <td>3.504</td>\n      <td>12.0</td>\n      <td>70</td>\n    </tr>\n    <tr>\n      <th>1</th>\n      <td>6.666667</td>\n      <td>15.0</td>\n      <td>8</td>\n      <td>3.50</td>\n      <td>1.65</td>\n      <td>3.693</td>\n      <td>11.5</td>\n      <td>70</td>\n    </tr>\n    <tr>\n      <th>2</th>\n      <td>5.555556</td>\n      <td>18.0</td>\n      <td>8</td>\n      <td>3.18</td>\n      <td>1.50</td>\n      <td>3.436</td>\n      <td>11.0</td>\n      <td>70</td>\n    </tr>\n    <tr>\n      <th>3</th>\n      <td>6.250000</td>\n      <td>16.0</td>\n      <td>8</td>\n      <td>3.04</td>\n      <td>1.50</td>\n      <td>3.433</td>\n      <td>12.0</td>\n      <td>70</td>\n    </tr>\n    <tr>\n      <th>4</th>\n      <td>5.882353</td>\n      <td>17.0</td>\n      <td>8</td>\n      <td>3.02</td>\n      <td>1.40</td>\n      <td>3.449</td>\n      <td>10.5</td>\n      <td>70</td>\n    </tr>\n    <tr>\n      <th>...</th>\n      <td>...</td>\n      <td>...</td>\n      <td>...</td>\n      <td>...</td>\n      <td>...</td>\n      <td>...</td>\n      <td>...</td>\n      <td>...</td>\n    </tr>\n    <tr>\n      <th>387</th>\n      <td>3.703704</td>\n      <td>27.0</td>\n      <td>4</td>\n      <td>1.40</td>\n      <td>0.86</td>\n      <td>2.790</td>\n      <td>15.6</td>\n      <td>82</td>\n    </tr>\n    <tr>\n      <th>388</th>\n      <td>2.272727</td>\n      <td>44.0</td>\n      <td>4</td>\n      <td>0.97</td>\n      <td>0.52</td>\n      <td>2.130</td>\n      <td>24.6</td>\n      <td>82</td>\n    </tr>\n    <tr>\n      <th>389</th>\n      <td>3.125000</td>\n      <td>32.0</td>\n      <td>4</td>\n      <td>1.35</td>\n      <td>0.84</td>\n      <td>2.295</td>\n      <td>11.6</td>\n      <td>82</td>\n    </tr>\n    <tr>\n      <th>390</th>\n      <td>3.571429</td>\n      <td>28.0</td>\n      <td>4</td>\n      <td>1.20</td>\n      <td>0.79</td>\n      <td>2.625</td>\n      <td>18.6</td>\n      <td>82</td>\n    </tr>\n    <tr>\n      <th>391</th>\n      <td>3.225806</td>\n      <td>31.0</td>\n      <td>4</td>\n      <td>1.19</td>\n      <td>0.82</td>\n      <td>2.720</td>\n      <td>19.4</td>\n      <td>82</td>\n    </tr>\n  </tbody>\n</table>\n<p>392 rows × 8 columns</p>\n</div>"
     },
     "execution_count": 72,
     "metadata": {},
     "output_type": "execute_result"
    }
   ],
   "source": [
    "df = auto_MPG.drop(columns=['GallonsPer100MilesTo1981','Year70To81','Origin','Origin.Eq.1','Origin.Eq.2','Origin.Eq.3','Name'], axis=1)\n",
    "df"
   ],
   "metadata": {
    "collapsed": false,
    "ExecuteTime": {
     "end_time": "2023-11-21T21:41:01.361808Z",
     "start_time": "2023-11-21T21:41:01.306892Z"
    }
   },
   "id": "8e9c26a0eacbdc41"
  },
  {
   "cell_type": "code",
   "execution_count": 73,
   "outputs": [
    {
     "data": {
      "text/plain": "      MPG  Cylinders  Displacement100ci  Horsepower100  Weight1000lb  \\\n0    18.0          8               3.07           1.30         3.504   \n1    15.0          8               3.50           1.65         3.693   \n2    18.0          8               3.18           1.50         3.436   \n3    16.0          8               3.04           1.50         3.433   \n4    17.0          8               3.02           1.40         3.449   \n..    ...        ...                ...            ...           ...   \n387  27.0          4               1.40           0.86         2.790   \n388  44.0          4               0.97           0.52         2.130   \n389  32.0          4               1.35           0.84         2.295   \n390  28.0          4               1.20           0.79         2.625   \n391  31.0          4               1.19           0.82         2.720   \n\n     Seconds0to60  Year  Intercept  \n0            12.0    70          1  \n1            11.5    70          1  \n2            11.0    70          1  \n3            12.0    70          1  \n4            10.5    70          1  \n..            ...   ...        ...  \n387          15.6    82          1  \n388          24.6    82          1  \n389          11.6    82          1  \n390          18.6    82          1  \n391          19.4    82          1  \n\n[392 rows x 8 columns]",
      "text/html": "<div>\n<style scoped>\n    .dataframe tbody tr th:only-of-type {\n        vertical-align: middle;\n    }\n\n    .dataframe tbody tr th {\n        vertical-align: top;\n    }\n\n    .dataframe thead th {\n        text-align: right;\n    }\n</style>\n<table border=\"1\" class=\"dataframe\">\n  <thead>\n    <tr style=\"text-align: right;\">\n      <th></th>\n      <th>MPG</th>\n      <th>Cylinders</th>\n      <th>Displacement100ci</th>\n      <th>Horsepower100</th>\n      <th>Weight1000lb</th>\n      <th>Seconds0to60</th>\n      <th>Year</th>\n      <th>Intercept</th>\n    </tr>\n  </thead>\n  <tbody>\n    <tr>\n      <th>0</th>\n      <td>18.0</td>\n      <td>8</td>\n      <td>3.07</td>\n      <td>1.30</td>\n      <td>3.504</td>\n      <td>12.0</td>\n      <td>70</td>\n      <td>1</td>\n    </tr>\n    <tr>\n      <th>1</th>\n      <td>15.0</td>\n      <td>8</td>\n      <td>3.50</td>\n      <td>1.65</td>\n      <td>3.693</td>\n      <td>11.5</td>\n      <td>70</td>\n      <td>1</td>\n    </tr>\n    <tr>\n      <th>2</th>\n      <td>18.0</td>\n      <td>8</td>\n      <td>3.18</td>\n      <td>1.50</td>\n      <td>3.436</td>\n      <td>11.0</td>\n      <td>70</td>\n      <td>1</td>\n    </tr>\n    <tr>\n      <th>3</th>\n      <td>16.0</td>\n      <td>8</td>\n      <td>3.04</td>\n      <td>1.50</td>\n      <td>3.433</td>\n      <td>12.0</td>\n      <td>70</td>\n      <td>1</td>\n    </tr>\n    <tr>\n      <th>4</th>\n      <td>17.0</td>\n      <td>8</td>\n      <td>3.02</td>\n      <td>1.40</td>\n      <td>3.449</td>\n      <td>10.5</td>\n      <td>70</td>\n      <td>1</td>\n    </tr>\n    <tr>\n      <th>...</th>\n      <td>...</td>\n      <td>...</td>\n      <td>...</td>\n      <td>...</td>\n      <td>...</td>\n      <td>...</td>\n      <td>...</td>\n      <td>...</td>\n    </tr>\n    <tr>\n      <th>387</th>\n      <td>27.0</td>\n      <td>4</td>\n      <td>1.40</td>\n      <td>0.86</td>\n      <td>2.790</td>\n      <td>15.6</td>\n      <td>82</td>\n      <td>1</td>\n    </tr>\n    <tr>\n      <th>388</th>\n      <td>44.0</td>\n      <td>4</td>\n      <td>0.97</td>\n      <td>0.52</td>\n      <td>2.130</td>\n      <td>24.6</td>\n      <td>82</td>\n      <td>1</td>\n    </tr>\n    <tr>\n      <th>389</th>\n      <td>32.0</td>\n      <td>4</td>\n      <td>1.35</td>\n      <td>0.84</td>\n      <td>2.295</td>\n      <td>11.6</td>\n      <td>82</td>\n      <td>1</td>\n    </tr>\n    <tr>\n      <th>390</th>\n      <td>28.0</td>\n      <td>4</td>\n      <td>1.20</td>\n      <td>0.79</td>\n      <td>2.625</td>\n      <td>18.6</td>\n      <td>82</td>\n      <td>1</td>\n    </tr>\n    <tr>\n      <th>391</th>\n      <td>31.0</td>\n      <td>4</td>\n      <td>1.19</td>\n      <td>0.82</td>\n      <td>2.720</td>\n      <td>19.4</td>\n      <td>82</td>\n      <td>1</td>\n    </tr>\n  </tbody>\n</table>\n<p>392 rows × 8 columns</p>\n</div>"
     },
     "execution_count": 73,
     "metadata": {},
     "output_type": "execute_result"
    }
   ],
   "source": [
    "X = df.drop('GallonsPer100Miles', axis=1)\n",
    "X['Intercept'] = 1\n",
    "y = df['GallonsPer100Miles']\n",
    "X"
   ],
   "metadata": {
    "collapsed": false,
    "ExecuteTime": {
     "end_time": "2023-11-21T21:41:05.903839Z",
     "start_time": "2023-11-21T21:41:05.855705Z"
    }
   },
   "id": "de989b38d7370a41"
  },
  {
   "cell_type": "code",
   "execution_count": 74,
   "outputs": [
    {
     "name": "stdout",
     "output_type": "stream",
     "text": [
      "Correlation matrix:\n",
      "                        MPG  Cylinders  Displacement100ci  Horsepower100  \\\n",
      "MPG                1.000000  -0.777618          -0.805127      -0.778427   \n",
      "Cylinders         -0.777618   1.000000           0.950823       0.842983   \n",
      "Displacement100ci -0.805127   0.950823           1.000000       0.897257   \n",
      "Horsepower100     -0.778427   0.842983           0.897257       1.000000   \n",
      "Weight1000lb      -0.832244   0.897527           0.932994       0.864538   \n",
      "Seconds0to60       0.423329  -0.504683          -0.543800      -0.689196   \n",
      "Year               0.580541  -0.345647          -0.369855      -0.416361   \n",
      "Intercept               NaN        NaN                NaN            NaN   \n",
      "\n",
      "                   Weight1000lb  Seconds0to60      Year  Intercept  \n",
      "MPG                   -0.832244      0.423329  0.580541        NaN  \n",
      "Cylinders              0.897527     -0.504683 -0.345647        NaN  \n",
      "Displacement100ci      0.932994     -0.543800 -0.369855        NaN  \n",
      "Horsepower100          0.864538     -0.689196 -0.416361        NaN  \n",
      "Weight1000lb           1.000000     -0.416839 -0.309120        NaN  \n",
      "Seconds0to60          -0.416839      1.000000  0.290316        NaN  \n",
      "Year                  -0.309120      0.290316  1.000000        NaN  \n",
      "Intercept                   NaN           NaN       NaN        NaN  \n"
     ]
    }
   ],
   "source": [
    "correlation_matrix = X.corr()\n",
    "print(\"Correlation matrix:\")\n",
    "print(correlation_matrix)"
   ],
   "metadata": {
    "collapsed": false,
    "ExecuteTime": {
     "end_time": "2023-11-21T21:41:07.290110Z",
     "start_time": "2023-11-21T21:41:07.249342Z"
    }
   },
   "id": "385339c59f61e629"
  },
  {
   "cell_type": "code",
   "execution_count": 75,
   "outputs": [
    {
     "name": "stdout",
     "output_type": "stream",
     "text": [
      "Manually calculated intercept: 7.389653389006277\n",
      "Coefficients: [-0.10755285  0.10372861 -0.08769938  1.13335449  0.37831545  0.04305147\n",
      " -0.04556994  7.38965339]\n"
     ]
    }
   ],
   "source": [
    "coefficients = np.linalg.inv(X.T.dot(X)).dot(X.T).dot(y)\n",
    "mean_y = np.mean(y)\n",
    "mean_x_values = X.mean()\n",
    "intercept = mean_y - np.dot(coefficients[:-1], mean_x_values[:-1])\n",
    "print(\"Manually calculated intercept:\", intercept)\n",
    "print(\"Coefficients:\", coefficients)"
   ],
   "metadata": {
    "collapsed": false,
    "ExecuteTime": {
     "end_time": "2023-11-21T21:41:10.809409Z",
     "start_time": "2023-11-21T21:41:10.789314Z"
    }
   },
   "id": "e8cd6536de5e8f1"
  },
  {
   "cell_type": "code",
   "execution_count": 77,
   "outputs": [
    {
     "name": "stdout",
     "output_type": "stream",
     "text": [
      "7.571915295528362\n"
     ]
    }
   ],
   "source": [
    "x_test = np.array([14, 8, 4.4, 2.15, 4.312, 8.5, 70])\n",
    "pred_y = intercept + np.dot(coefficients[:-1], x_test)\n",
    "print(pred_y)"
   ],
   "metadata": {
    "collapsed": false,
    "ExecuteTime": {
     "end_time": "2023-11-21T21:41:25.985099Z",
     "start_time": "2023-11-21T21:41:25.925103Z"
    }
   },
   "id": "17700af59d8201dc"
  },
  {
   "cell_type": "code",
   "execution_count": 64,
   "outputs": [],
   "source": [],
   "metadata": {
    "collapsed": false,
    "ExecuteTime": {
     "end_time": "2023-11-21T21:35:58.161308Z",
     "start_time": "2023-11-21T21:35:58.031653Z"
    }
   },
   "id": "311ba6efc4ba8354"
  }
 ],
 "metadata": {
  "kernelspec": {
   "display_name": "Python 3",
   "language": "python",
   "name": "python3"
  },
  "language_info": {
   "codemirror_mode": {
    "name": "ipython",
    "version": 2
   },
   "file_extension": ".py",
   "mimetype": "text/x-python",
   "name": "python",
   "nbconvert_exporter": "python",
   "pygments_lexer": "ipython2",
   "version": "2.7.6"
  }
 },
 "nbformat": 4,
 "nbformat_minor": 5
}
